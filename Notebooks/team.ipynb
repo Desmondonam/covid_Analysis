{
 "cells": [
  {
   "cell_type": "markdown",
   "id": "42545f28",
   "metadata": {},
   "source": [
    "Team: (30)\n",
    "Develop Linear and Non-Linear (polynomial) regression models for predicting cases and deaths in US.\n",
    "Start your data from the first day of infections in US. X-Axis - number of days since the first case, Y-Axis - number of new cases and deaths.\n",
    "Calculate and report Root Mean Square Error (RMSE) for your models (linear and non-linear). Discuss bias versus variance tradeoff.\n",
    "Plot trend line along for the data along with the forecast of 1 week ahead.\n",
    "Describe the trends as compared to other countries."
   ]
  },
  {
   "cell_type": "code",
   "execution_count": 1,
   "id": "2bd6bb48",
   "metadata": {},
   "outputs": [],
   "source": [
    "### Import the libraries needed\n",
    "import numpy as np\n",
    "import matplotlib.pyplot as plt\n"
   ]
  },
  {
   "cell_type": "code",
   "execution_count": 2,
   "id": "7013ae64",
   "metadata": {},
   "outputs": [],
   "source": [
    "np.random.seed(42)\n",
    "X = np.random.rand(1000,1)\n",
    "y = 5*((X)**(2)) + np.random.rand(1000,1)"
   ]
  },
  {
   "cell_type": "markdown",
   "id": "77e97d16",
   "metadata": {},
   "source": [
    "### defining the loss function"
   ]
  },
  {
   "cell_type": "code",
   "execution_count": 4,
   "id": "92661aa8",
   "metadata": {},
   "outputs": [],
   "source": [
    "def loss(y, y_hat):\n",
    "    \n",
    "    # y --> true/target value.\n",
    "    # y_hat --> hypothesis\n",
    "    \n",
    "    #Calculating loss.\n",
    "    loss = np.mean((y_hat - y)**2)\n",
    "    return loss"
   ]
  },
  {
   "cell_type": "markdown",
   "id": "358f0b47",
   "metadata": {},
   "source": [
    "### Function to calculate the gradients "
   ]
  },
  {
   "cell_type": "code",
   "execution_count": 5,
   "id": "3331ceb2",
   "metadata": {},
   "outputs": [],
   "source": [
    "# Calulating gradient of loss w.r.t parameters(weights and bias).\n",
    "def gradients(X, y, y_hat):\n",
    "    \n",
    "    # X --> Input.\n",
    "    # y --> true/target value.\n",
    "    # y_hat --> hypothesis\n",
    "    # w --> weights (parameter).\n",
    "    # b --> bias (parameter).\n",
    "    \n",
    "    # m-> number of training examples.\n",
    "    m = X.shape[0]\n",
    "    \n",
    "    # Gradient of loss w.r.t weights.\n",
    "    dw = (1/m)*np.dot(X.T, (y_hat - y))\n",
    "    \n",
    "    # Gradient of loss w.r.t bias.\n",
    "    db = (1/m)*np.sum((y_hat - y)) \n",
    "    \n",
    "    return dw, db"
   ]
  },
  {
   "cell_type": "markdown",
   "id": "127fb7b5",
   "metadata": {},
   "source": [
    "### Function to add features to input data"
   ]
  },
  {
   "cell_type": "code",
   "execution_count": 6,
   "id": "f3b45f1c",
   "metadata": {},
   "outputs": [],
   "source": [
    "def x_transform(X, degrees):\n",
    "    \n",
    "    # X --> Input.\n",
    "    # degrees --> A list, We add X^(value) feature to the input\n",
    "    #             where value is one of the values in the list.\n",
    "    \n",
    "    # making a copy of X.\n",
    "    t = X.copy()\n",
    "    \n",
    "    # Appending columns of higher degrees to X.\n",
    "    for i in degrees:\n",
    "        X = np.append(X, t**i, axis=1)\n",
    "            \n",
    "    return X"
   ]
  },
  {
   "cell_type": "markdown",
   "id": "76c54a9a",
   "metadata": {},
   "source": [
    "### Training Function "
   ]
  },
  {
   "cell_type": "code",
   "execution_count": 7,
   "id": "70b3380d",
   "metadata": {},
   "outputs": [],
   "source": [
    "def train(X, y, bs, degrees, epochs, lr):\n",
    "    \n",
    "    # X --> Input.\n",
    "    # y --> true/target value.\n",
    "    # bs --> Batch Size.\n",
    "    # epochs --> Number of iterations.\n",
    "    # degrees --> A list, We add X^(value) feature to the input\n",
    "    #             where value is one of the values in the list.\n",
    "    # lr --> Learning rate.\n",
    "    \n",
    "    # Adding features to input X.\n",
    "    x = x_transform(X, degrees)\n",
    "    \n",
    "    # m-> number of training examples\n",
    "    # n-> number of features \n",
    "    m, n = x.shape\n",
    "    \n",
    "    # Initializing weights and bias to zeros.\n",
    "    w = np.zeros((n,1))\n",
    "    b = 0\n",
    "    \n",
    "    # Reshaping y.\n",
    "    y = y.reshape(m,1)\n",
    "    \n",
    "    # Empty list to store losses.\n",
    "    losses = []\n",
    "    \n",
    "    # Training loop.\n",
    "    for epoch in range(epochs):\n",
    "        for i in range((m-1)//bs + 1):\n",
    "            \n",
    "            # Defining batches.\n",
    "            start_i = i*bs\n",
    "            end_i = start_i + bs\n",
    "            xb = x[start_i:end_i]\n",
    "            yb = y[start_i:end_i]\n",
    "            \n",
    "            # Calculating hypothesis\n",
    "            y_hat = np.dot(xb, w) + b\n",
    "            \n",
    "            # Getting the gradients of loss w.r.t parameters.\n",
    "            dw, db = gradients(xb, yb, y_hat)\n",
    "            \n",
    "            # Updating the parameters.\n",
    "            w -= lr*dw\n",
    "            b -= lr*db\n",
    "        \n",
    "        # Calculating loss and appending it in the list.\n",
    "        l = loss(y, np.dot(x, w) + b)\n",
    "        losses.append(l)\n",
    "        \n",
    "    # returning weights, bias and losses(List).\n",
    "    return w, b, losses"
   ]
  },
  {
   "cell_type": "markdown",
   "id": "4b5ac210",
   "metadata": {},
   "source": [
    "### Prediction Function "
   ]
  },
  {
   "cell_type": "code",
   "execution_count": 9,
   "id": "809e0edb",
   "metadata": {},
   "outputs": [],
   "source": [
    "# Predicting function.\n",
    "def predict(X, w, b, degrees):\n",
    "    \n",
    "    # X --> Input.\n",
    "    # w --> weights (parameter).\n",
    "    # b --> bias (parameter).\n",
    "    # degrees --> A list, We add X^(value) feature to the input\n",
    "    #             where value is one of the values in the list.\n",
    "    \n",
    "    # Adding degrees to input X.\n",
    "    x1 = x_transform(X, degrees)\n",
    "    \n",
    "    # Returning predictions.\n",
    "    return np.dot(x1, w) + b"
   ]
  },
  {
   "cell_type": "markdown",
   "id": "cc120a30",
   "metadata": {},
   "source": [
    "### Training and plotting prediction "
   ]
  },
  {
   "cell_type": "code",
   "execution_count": 10,
   "id": "952ae70d",
   "metadata": {},
   "outputs": [
    {
     "data": {
      "image/png": "[encoded data removed]",
      "text/plain": [
       "<Figure size 576x432 with 1 Axes>"
      ]
     },
     "metadata": {
      "needs_background": "light"
     },
     "output_type": "display_data"
    }
   ],
   "source": [
    "w, b, l = train(X, y, bs=100, degrees=[2], epochs=1000,\n",
    "                lr=0.01)\n",
    "# Plotting\n",
    "fig = plt.figure(figsize=(8,6))\n",
    "plt.plot(X, y, 'y.')\n",
    "plt.plot(X, predict(X, w, b, [2]), 'r.')\n",
    "plt.legend([\"Data\", \"Polynomial predictions\"])\n",
    "plt.xlabel('X - Input')\n",
    "plt.ylabel('y - target / true')\n",
    "plt.title('Polynomial Regression')\n",
    "plt.show()"
   ]
  },
  {
   "cell_type": "markdown",
   "id": "e70f6b1f",
   "metadata": {},
   "source": [
    "### Getting the R2 score"
   ]
  },
  {
   "cell_type": "code",
   "execution_count": 11,
   "id": "4acd2424",
   "metadata": {},
   "outputs": [
    {
     "ename": "NameError",
     "evalue": "name 'y_train' is not defined",
     "output_type": "error",
     "traceback": [
      "\u001b[1;31m---------------------------------------------------------------------------\u001b[0m",
      "\u001b[1;31mNameError\u001b[0m                                 Traceback (most recent call last)",
      "\u001b[1;32m<ipython-input-11-ca6814cb123a>\u001b[0m in \u001b[0;36m<module>\u001b[1;34m\u001b[0m\n\u001b[0;32m      2\u001b[0m     return 1 - (np.sum((np.array(y_hat)-np.array(y))**2)/\n\u001b[0;32m      3\u001b[0m                 np.sum((np.array(y)-np.mean(np.array(y)))**2))\n\u001b[1;32m----> 4\u001b[1;33m \u001b[0mr2_score\u001b[0m\u001b[1;33m(\u001b[0m\u001b[0my_train\u001b[0m\u001b[1;33m,\u001b[0m \u001b[0mpredict\u001b[0m\u001b[1;33m(\u001b[0m\u001b[0mx_train\u001b[0m\u001b[1;33m,\u001b[0m \u001b[0mw\u001b[0m\u001b[1;33m,\u001b[0m \u001b[0mb\u001b[0m\u001b[1;33m,\u001b[0m \u001b[1;33m[\u001b[0m\u001b[1;36m2\u001b[0m\u001b[1;33m]\u001b[0m\u001b[1;33m)\u001b[0m\u001b[1;33m)\u001b[0m\u001b[1;33m\u001b[0m\u001b[1;33m\u001b[0m\u001b[0m\n\u001b[0m",
      "\u001b[1;31mNameError\u001b[0m: name 'y_train' is not defined"
     ]
    }
   ],
   "source": [
    "def r2_score(y, y_hat):\n",
    "    return 1 - (np.sum((np.array(y_hat)-np.array(y))**2)/\n",
    "                np.sum((np.array(y)-np.mean(np.array(y)))**2))\n",
    "r2_score(y_train, predict(x_train, w, b, [2]))"
   ]
  },
  {
   "cell_type": "code",
   "execution_count": null,
   "id": "1da4a006",
   "metadata": {},
   "outputs": [],
   "source": []
  }
 ],
 "metadata": {
  "kernelspec": {
   "display_name": "Python 3",
   "language": "python",
   "name": "python3"
  },
  "language_info": {
   "codemirror_mode": {
    "name": "ipython",
    "version": 3
   },
   "file_extension": ".py",
   "mimetype": "text/x-python",
   "name": "python",
   "nbconvert_exporter": "python",
   "pygments_lexer": "ipython3",
   "version": "3.8.8"
  }
 },
 "nbformat": 4,
 "nbformat_minor": 5
}
