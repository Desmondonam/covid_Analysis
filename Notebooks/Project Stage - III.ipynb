{
 "cells": [
  {
   "cell_type": "markdown",
   "metadata": {},
   "source": [
    "## Project Stage - III (Basic Machine Learning)"
   ]
  },
  {
   "cell_type": "markdown",
   "metadata": {},
   "source": [
    "## Goals\n",
    "\n",
    "The goal of Stage II is to utlize machine learning and statistical models to predict the trend of COVID-19 cases / deaths."
   ]
  },
  {
   "cell_type": "markdown",
   "metadata": {},
   "source": [
    "### Tasks:\n",
    "\n",
    "#### Task 1: (70 pts)\n",
    "- Team: (30)\n",
    "    - Develop Linear and Non-Linear (polynomial) regression models for predicting cases and deaths in US. \n",
    "        - Start your data from the first day of infections in US. X-Axis - number of days since the first case, Y-Axis - number of new cases and deaths.\n",
    "        - Calculate and report Root Mean Square Error (RMSE) for your models (linear and non-linear). Discuss bias versus variance tradeoff.\n",
    "        - Plot trend line along for the data along with the forecast of 1 week ahead. \n",
    "        - Describe the trends as compared to other countries. \n",
    "- Member: (40 pts)\n",
    "    - Utilize Linear and Non-Linear (polynomial) regression models to compare trends for a single state and its counties (top 5 with highest number of cases). Start your data from the first day of infections. \n",
    "        - X-Axis - number of days since the first case, Y - Axis number of new cases and deaths. Calcluate error using RMSE.\n",
    "        - Identify which counties are most at risk. Model for top 5 counties with cases within a state and describe their trends.\n",
    "        - Utilize the hospital data to calculate the point of no return for a state. Use percentage occupancy / utilization to see which states are close and what their trend looks like.\n",
    "     - Perform hypothesis tests on questions identified in Stage II\n",
    "        - e.x. *Does higher employment data (overall employment numbers) lead to higher covid case numbers or more rapid increase in covid cases.*. Here you would compare the covid cases to the state or county level enrichment data to prove or disprove your null hypothesis. In this case there will be a two tail - two sample t-test to see if there is a difference and then one-tail - two sample t-test to show higher or lower.\n",
    "        - Depending on your type of data you can also perform Chi-square test for categorical hypothesis testing. \n",
    "\n",
    "    \n",
    "#### Task 2: (30 pts)\n",
    "- Member:\n",
    "    - For each of the aforemention analysis plot graphs,\n",
    "        - trend line\n",
    "        - confidence intervals (error in prediction)\n",
    "        - prediction path (forecast)\n",
    "\n",
    "**Deliverable**\n",
    "- Each member creates separate notebooks for member tasks. Upload all notebooks and reports to Github Repository. \n",
    "- Presentation recordings on canvas."
   ]
  },
  {
   "cell_type": "markdown",
   "metadata": {},
   "source": [
    "## Deadline: 11/18/2021"
   ]
  },
  {
   "cell_type": "markdown",
   "metadata": {},
   "source": [
    "## Linear regression model"
   ]
  },
  {
   "cell_type": "code",
   "execution_count": 1,
   "metadata": {},
   "outputs": [],
   "source": [
    "def country_calculation(df_all,country,date,day):\n",
    "    df_country = df_all.copy()\n",
    "    df_country = df_country.loc[df_country['Date'] >= date]\n",
    "    df_country = df_country.loc[df_country['Country'] == country_dict[country]]\n",
    "    features = ['iso_code', 'continent', 'location','total_cases', 'total_deaths', 'date']\n",
    "    df_country = df_country[features]\n",
    "    \n",
    "    # Lags\n",
    "    df_country = lag_feature(df_country, 'total_cases',range(1, 40))\n",
    "    df_country = lag_feature(df_country, 'total_deaths', range(1,20))\n",
    "\n",
    "    filter_col_confirmed = [col for col in df_country if col.startswith('total_cases')]\n",
    "    filter_col_fatalities= [col for col in df_country if col.startswith('Fataliti')]\n",
    "    filter_col = np.append(filter_col_confirmed, filter_col_fatalities)\n",
    "    \n",
    "    # Apply log transformation\n",
    "    df_country[filter_col] = df_country[filter_col].apply(lambda x: np.log1p(x))\n",
    "    df_country.replace([np.inf, -np.inf], 0, inplace=True)\n",
    "    df_country.fillna(0, inplace=True) ####\n",
    "    \n",
    "    # Start/end of forecast\n",
    "    start = df_country[df_country['Id']==-999].Day_num.min()\n",
    "    end = df_country[df_country['Id']==-999].Day_num.max()\n",
    "    #\n",
    "    for d in range(start,end+1):\n",
    "   \n",
    "        X_train_1, X_train_2, Y_train_1, Y_train_2, x_test_1, x_test_2 = train_test_split_extend(df_country,d,day,filter_col_confirmed,filter_col_fatalities)\n",
    "        \n",
    "        regr_1, pred_1 = lin_reg(X_train_1, Y_train_1, x_test_1)\n",
    "        df_country.loc[(df_country['Day_num'] == d) & (df_country['Country'] == country_dict[country]), 'total_cases'] = pred_1[0]\n",
    "        \n",
    "        regr_2, pred_2 = lin_reg(X_train_2, Y_train_2, x_test_2)\n",
    "        df_country.loc[(df_country['Day_num'] == d) & (df_country['Country'] == country_dict[country]), 'Fatalities'] = pred_2[0]\n",
    "        \n",
    "        df_country = lag_feature(df_country, 'total_cases',range(1, 40))\n",
    "        df_country = lag_feature(df_country, 'Fatalities', range(1,20))\n",
    "\n",
    "        df_country.replace([np.inf, -np.inf], 0, inplace=True)\n",
    "        df_country.fillna(0, inplace=True)\n",
    "        \n",
    "    print(\"Calculation done.\")\n",
    "    return df_country\n",
    "    \n",
    "    df_check = country_calculation(df_all, 'Germany', '2020-03-10', 48)"
   ]
  },
  {
   "cell_type": "code",
   "execution_count": null,
   "metadata": {},
   "outputs": [],
   "source": []
  },
  {
   "cell_type": "code",
   "execution_count": null,
   "metadata": {},
   "outputs": [],
   "source": []
  }
 ],
 "metadata": {
  "kernelspec": {
   "display_name": "Python 3",
   "language": "python",
   "name": "python3"
  },
  "language_info": {
   "codemirror_mode": {
    "name": "ipython",
    "version": 3
   },
   "file_extension": ".py",
   "mimetype": "text/x-python",
   "name": "python",
   "nbconvert_exporter": "python",
   "pygments_lexer": "ipython3",
   "version": "3.8.8"
  },
  "nteract": {
   "version": "0.28.0"
  }
 },
 "nbformat": 4,
 "nbformat_minor": 2
}
